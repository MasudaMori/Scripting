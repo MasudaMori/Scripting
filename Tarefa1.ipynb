{
 "cells": [
  {
   "cell_type": "code",
   "execution_count": 5,
   "id": "a4a57ed6-7bc7-43e0-83ac-11a7cc8dabd9",
   "metadata": {},
   "outputs": [
    {
     "name": "stdout",
     "output_type": "stream",
     "text": [
      "Data inicial: 2019-01-01 Data final: 2019-03-31\n",
      "Nome da pasta: 2019-03 \n",
      "\n",
      "Data inicial: 2019-01-01 Data final: 2019-04-30\n",
      "Nome da pasta: 2019-04 \n",
      "\n",
      "Data inicial: 2019-01-01 Data final: 2019-05-31\n",
      "Nome da pasta: 2019-05 \n",
      "\n",
      "Data inicial: 2019-01-01 Data final: 2019-06-30\n",
      "Nome da pasta: 2019-06 \n",
      "\n",
      "Data inicial: 2019-01-01 Data final: 2019-12-31\n",
      "Nome da pasta: 2019-12 \n",
      "\n"
     ]
    }
   ],
   "source": [
    "# Imports necessários\n",
    "import pandas as pd\n",
    "import matplotlib.pyplot as plt\n",
    "import seaborn as sns\n",
    "import os\n",
    "\n",
    "# Configuração padrão do tema de gráficos\n",
    "sns.set_theme()\n",
    "\n",
    "# Função para plotar a tabela dinâmica (pivot table)\n",
    "def plot_pivot_table(df: pd.DataFrame, value: str, index: str, func: str, ylabel: str, xlabel: str, opcao: str='nenhuma') -> None:\n",
    "    if opcao == 'nenhuma':\n",
    "        pd.pivot_table(data=df, values=value, index=index, aggfunc=func).plot(figsize=[15, 5])\n",
    "    elif opcao == 'sort':\n",
    "        pd.pivot_table(data=df, values=value, index=index, aggfunc=func).sort_values(value).plot(figsize=[15, 5])\n",
    "    elif opcao == 'unstack':\n",
    "        pd.pivot_table(data=df, values=value, index=index, aggfunc=func).unstack().plot(figsize=[15, 5])\n",
    "    plt.ylabel(ylabel)\n",
    "    plt.xlabel(xlabel)\n",
    "    return None\n",
    "\n",
    "\n",
    "# Definindo os meses que serão utilizados\n",
    "meses = ['MAR', 'ABR', 'MAI', 'JUN', 'DEZ']\n",
    "\n",
    "# Loop para gerar gráficos automaticamente\n",
    "for mes in meses:\n",
    "    # Lê os dados do CSV correspondente ao mês (ajustado para o mesmo diretório do notebook)\n",
    "    sinasc = pd.read_csv(f'SINASC_RO_2019_{mes}.csv')\n",
    "\n",
    "    # Obtém a data máxima no formato YYYY-MM\n",
    "    max_data = sinasc.DTNASC.max()[:7]\n",
    "    \n",
    "    # Cria diretório para salvar os gráficos\n",
    "    os.makedirs(f'./output/figs/{max_data}', exist_ok=True)\n",
    "\n",
    "    # Gera diferentes gráficos e salva como PNG\n",
    "    plot_pivot_table(df=sinasc, value='IDADEMAE', index='DTNASC', func='count', ylabel='Quantidade de nascimentos', xlabel='Data de nascimento')\n",
    "    plt.savefig(f'./output/figs/{max_data}/Quantidade de nascimentos.png')\n",
    "    plt.close()\n",
    "\n",
    "    plot_pivot_table(df=sinasc, value='IDADEMAE', index=['DTNASC', 'SEXO'], func='mean', ylabel='Média da idade das mães', xlabel='Data de nascimento', opcao='unstack')\n",
    "    plt.savefig(f'./output/figs/{max_data}/Média da idade das mães por sexo.png')\n",
    "    plt.close()\n",
    "\n",
    "    plot_pivot_table(df=sinasc, value='PESO', index=['DTNASC', 'SEXO'], func='mean', ylabel='Média do peso dos bebês', xlabel='Data de nascimento', opcao='unstack')\n",
    "    plt.savefig(f'./output/figs/{max_data}/Média do peso dos bebês por sexo.png')\n",
    "    plt.close()\n",
    "\n",
    "    plot_pivot_table(df=sinasc, value='APGAR1', index='ESCMAE', func='median', ylabel='Mediana do APGAR1', xlabel='Escolaridade', opcao='sort')\n",
    "    plt.savefig(f'./output/figs/{max_data}/Mediana do APGAR1 por escolaridade das mães.png')\n",
    "    plt.close()\n",
    "\n",
    "    plot_pivot_table(df=sinasc, value='APGAR1', index='GESTACAO', func='mean', ylabel='Média do APGAR1', xlabel='Gestação', opcao='sort')\n",
    "    plt.savefig(f'./output/figs/{max_data}/Média do APGAR1 por gestação.png')\n",
    "    plt.close()\n",
    "\n",
    "    plot_pivot_table(df=sinasc, value='APGAR5', index='GESTACAO', func='mean', ylabel='Média do APGAR5', xlabel='Gestação', opcao='sort')\n",
    "    plt.savefig(f'./output/figs/{max_data}/Média do APGAR5 por gestação.png')\n",
    "    plt.close()\n",
    "\n",
    "    # Exibe informações sobre o período analisado\n",
    "    print('Data inicial:', sinasc.DTNASC.min(), 'Data final:', sinasc.DTNASC.max())\n",
    "    print('Nome da pasta:', max_data, '\\n')\n"
   ]
  },
  {
   "cell_type": "markdown",
   "id": "d92620a4-96a2-4528-98c9-64a8b99f0574",
   "metadata": {},
   "source": [
    "1. **Lista Dinâmica de Meses**: Poderíamos automatizar a identificação dos arquivos disponíveis para gerar gráficos automaticamente para todos os meses sem precisar definir manualmente a lista de meses.\n",
    "\n",
    "2. **Parâmetros Externos**: Incluir um arquivo de configuração (como JSON ou YAML) que permita definir quais gráficos devem ser gerados, tornando o código mais flexível para novos anos ou diferentes variáveis.\n",
    "\n",
    "3. **Modularização**: Dividir o código em funções menores e específicas (leitura de dados, criação de diretórios, geração de gráficos) para facilitar a manutenção e adaptação para novos casos de uso.\n",
    "\n",
    "4. **Agendamento Automático**: Utilizar ferramentas como cron (Linux) ou schedulers do Windows para automatizar a execução do código periodicamente, gerando gráficos mensais ou anuais automaticamente.\n"
   ]
  },
  {
   "cell_type": "code",
   "execution_count": null,
   "id": "cc1f0251-6380-48b6-b5b9-de0f05fdac8b",
   "metadata": {},
   "outputs": [],
   "source": []
  }
 ],
 "metadata": {
  "kernelspec": {
   "display_name": "Python 3 (ipykernel)",
   "language": "python",
   "name": "python3"
  },
  "language_info": {
   "codemirror_mode": {
    "name": "ipython",
    "version": 3
   },
   "file_extension": ".py",
   "mimetype": "text/x-python",
   "name": "python",
   "nbconvert_exporter": "python",
   "pygments_lexer": "ipython3",
   "version": "3.12.4"
  }
 },
 "nbformat": 4,
 "nbformat_minor": 5
}
